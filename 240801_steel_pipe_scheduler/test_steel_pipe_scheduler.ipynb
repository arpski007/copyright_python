{
 "cells": [
  {
   "cell_type": "code",
   "execution_count": 35,
   "metadata": {},
   "outputs": [
    {
     "name": "stdout",
     "output_type": "stream",
     "text": [
      "Outside Diameter: 1.9\n",
      "Inside Diameter: 1.5\n",
      "Wall Thickness: 0.2000\n",
      "Outside Circumference: 5.9690\n",
      "Inside Circumference: 4.7124\n",
      "Cross-sectional Area: 1.7671\n"
     ]
    }
   ],
   "source": [
    "import pandas as pd\n",
    "import math\n",
    "\n",
    "def print_csv_data(param1, param2):\n",
    "    # Read the CSV file into a DataFrame\n",
    "    df = pd.read_csv('prop_of_steel_pipes.csv')\n",
    "\n",
    "    # Strip any leading/trailing whitespace from the entire DataFrame\n",
    "    df = df.apply(lambda x: x.str.strip() if x.dtype == \"object\" else x)\n",
    "\n",
    "    # Column names\n",
    "    column1 = 'nominal_size'\n",
    "    column2 = 'schedule'\n",
    "    column3 = 'outside_diameter_in'\n",
    "    column4 = 'inside_diameter_in'\n",
    "\n",
    "    # Filter the DataFrame based on the two given parameters\n",
    "    filtered_df = df[(df[column1] == param1) & (df[column2] == param2)]\n",
    "\n",
    "    # Print the filtered data from columns 3 and 4\n",
    "    if not filtered_df.empty:\n",
    "        for index, row in filtered_df.iterrows():\n",
    "            OD = row[column3]\n",
    "            ID = row[column4]\n",
    "            wall_thickness = (OD - ID) / 2\n",
    "            OCircumference = OD * math.pi\n",
    "            ICircumference = ID * math.pi\n",
    "            cs_area = (ID ** 2) * math.pi / 4\n",
    "            print(f\"Outside Diameter: {OD}\")\n",
    "            print(f\"Inside Diameter: {ID}\")\n",
    "            print(f\"Wall Thickness: {wall_thickness:.4f}\")\n",
    "            print(f\"Outside Circumference: {OCircumference:.4f}\")\n",
    "            print(f\"Inside Circumference: {ICircumference:.4f}\")\n",
    "            print(f\"Cross-sectional Area: {cs_area:.4f}\")\n",
    "    else:\n",
    "        print(f\"No data found for {param1} and {param2}\")\n",
    "\n",
    "# Parameters\n",
    "param1 = '1 1/2'\n",
    "param2 = '80S'\n",
    "\n",
    "# Call the function\n",
    "print_csv_data(param1, param2)"
   ]
  }
 ],
 "metadata": {
  "kernelspec": {
   "display_name": "venv",
   "language": "python",
   "name": "python3"
  },
  "language_info": {
   "codemirror_mode": {
    "name": "ipython",
    "version": 3
   },
   "file_extension": ".py",
   "mimetype": "text/x-python",
   "name": "python",
   "nbconvert_exporter": "python",
   "pygments_lexer": "ipython3",
   "version": "3.12.3"
  }
 },
 "nbformat": 4,
 "nbformat_minor": 2
}
