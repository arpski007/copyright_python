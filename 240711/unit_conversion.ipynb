{
 "cells": [
  {
   "cell_type": "code",
   "execution_count": 17,
   "metadata": {},
   "outputs": [
    {
     "name": "stdout",
     "output_type": "stream",
     "text": [
      "30 meters is equal to 98.40 yards\n"
     ]
    }
   ],
   "source": [
    "import sympy as sp\n",
    "\n",
    "def convert_units(given_values, output_unit_str):\n",
    "    # Define the symbols\n",
    "    m, ft, yd = sp.symbols('m ft yd')\n",
    "\n",
    "    # Create a dictionary to map strings to symbols\n",
    "    unit_dict = {\n",
    "        'm': m,\n",
    "        'ft': ft,\n",
    "        'yd': yd\n",
    "    }\n",
    "\n",
    "    # Convert the given values to use symbols instead of strings\n",
    "    given_values_sym = {unit_dict[key]: value for key, value in given_values.items()}\n",
    "\n",
    "    # Define the conversion equations\n",
    "    length_eqns = [\n",
    "        sp.Eq(ft, 3.28 * m),  # 1 meter = 3.28 feet\n",
    "        sp.Eq(ft, 3 * yd)     # 1 yard = 3 feet\n",
    "    ]\n",
    "\n",
    "    # Identify which variables are given\n",
    "    given_vars = list(given_values_sym.keys())\n",
    "\n",
    "    # Determine the variables to solve for\n",
    "    all_vars = {m, ft, yd}\n",
    "    vars_to_solve = list(all_vars - set(given_vars))\n",
    "\n",
    "    # Solve the equations\n",
    "    solution = sp.solve(length_eqns, vars_to_solve)\n",
    "\n",
    "    # Substitute the given values into the solution\n",
    "    solution_with_values = {var: sol.subs(given_values_sym) for var, sol in solution.items()}\n",
    "\n",
    "    # Combine the given values and the solution\n",
    "    final_solution = {**given_values_sym, **solution_with_values}\n",
    "\n",
    "    # Return the desired output value\n",
    "    return final_solution[unit_dict[output_unit_str]]\n",
    "\n",
    "# Example usage:\n",
    "given_unit = 'm'\n",
    "given_value = 30\n",
    "output_unit = 'ft'\n",
    "output_value = convert_units(given_values, output_unit)\n",
    "\n",
    "\n",
    "given_values = {given_unit: given_value}\n",
    "print(f'{given_value} meters is equal to {output_value:.2f} yards')"
   ]
  }
 ],
 "metadata": {
  "kernelspec": {
   "display_name": "venv",
   "language": "python",
   "name": "python3"
  },
  "language_info": {
   "codemirror_mode": {
    "name": "ipython",
    "version": 3
   },
   "file_extension": ".py",
   "mimetype": "text/x-python",
   "name": "python",
   "nbconvert_exporter": "python",
   "pygments_lexer": "ipython3",
   "version": "3.12.3"
  }
 },
 "nbformat": 4,
 "nbformat_minor": 2
}
