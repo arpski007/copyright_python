{
 "cells": [
  {
   "cell_type": "code",
   "execution_count": 1,
   "metadata": {},
   "outputs": [
    {
     "name": "stdout",
     "output_type": "stream",
     "text": [
      "The viscosity of Water at 100°C is: 0.0003 Pa.s\n"
     ]
    }
   ],
   "source": [
    "import CoolProp.CoolProp as CP\n",
    "\n",
    "def convert_temperature(temp, from_unit, to_unit):\n",
    "    conversions = {\n",
    "        'C': lambda T: T + 273.15,  # Celsius to Kelvin\n",
    "        'F': lambda T: (T - 32) * 5/9 + 273.15,  # Fahrenheit to Kelvin\n",
    "        'K': lambda T: T,  # Kelvin to Kelvin\n",
    "        'R': lambda T: T * 5/9  # Rankine to Kelvin\n",
    "    }\n",
    "    return conversions[from_unit](temp)\n",
    "\n",
    "# Function to get viscosity\n",
    "def get_viscosity(fluid, temp, unit):\n",
    "    try:\n",
    "        temp_K = convert_temperature(temp, unit, 'K')\n",
    "        viscosity = CP.PropsSI('V', 'T', temp_K, 'Q', 0, fluid)\n",
    "        return viscosity\n",
    "    except ValueError:\n",
    "        available_fluids = sorted(CP.FluidsList())\n",
    "        return \"Invalid fluid name. Available fluids are:\\n\" + \"\\n\".join(available_fluids)\n",
    "\n",
    "# Specify the fluid and temperature with unit\n",
    "fluid = 'Water'  # example fluid name\n",
    "temperature = 100  # example temperature\n",
    "unit = 'C'  # 'C' for Celsius, 'F' for Fahrenheit, 'K' for Kelvin, 'R' for Rankine\n",
    "\n",
    "# Get the viscosity\n",
    "result = get_viscosity(fluid, temperature, unit)\n",
    "\n",
    "# Add degree symbol for Celsius and Fahrenheit\n",
    "if unit == 'K':\n",
    "    unit_with_degree = unit\n",
    "else:\n",
    "    unit_with_degree = f\"°{unit}\"\n",
    "\n",
    "if isinstance(result, str):\n",
    "    print(result)\n",
    "else:\n",
    "    print(f\"The viscosity of {fluid} at {temperature}{unit_with_degree} is: {result:.4f} Pa.s\")\n"
   ]
  }
 ],
 "metadata": {
  "kernelspec": {
   "display_name": "venv",
   "language": "python",
   "name": "python3"
  },
  "language_info": {
   "codemirror_mode": {
    "name": "ipython",
    "version": 3
   },
   "file_extension": ".py",
   "mimetype": "text/x-python",
   "name": "python",
   "nbconvert_exporter": "python",
   "pygments_lexer": "ipython3",
   "version": "3.9.6"
  }
 },
 "nbformat": 4,
 "nbformat_minor": 2
}
