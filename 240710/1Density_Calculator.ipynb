{
 "cells": [
  {
   "cell_type": "markdown",
   "metadata": {},
   "source": [
    "# Reynolds Number Type of Fluid Flow"
   ]
  },
  {
   "cell_type": "code",
   "execution_count": 4,
   "metadata": {},
   "outputs": [
    {
     "name": "stdout",
     "output_type": "stream",
     "text": [
      "Invalid input. Please enter a numeric value.\n",
      "Invalid input. Please enter a numeric value.\n",
      "Invalid input. Please enter a numeric value.\n",
      "Invalid input. Please enter a numeric value.\n",
      "Invalid input. Please enter a numeric value.\n",
      "Invalid input. Please enter a numeric value.\n",
      "Invalid input. Please enter a numeric value.\n",
      "Invalid input. Please enter a numeric value.\n",
      "Invalid input. Please enter a numeric value.\n",
      "Invalid input. Please enter a numeric value.\n",
      "Invalid input. Please enter a numeric value.\n",
      "Invalid input. Please enter a numeric value.\n",
      "Invalid input. Please enter a numeric value.\n",
      "Invalid input. Please enter a numeric value.\n",
      "Invalid input. Please enter a numeric value.\n",
      "Invalid input. Please enter a numeric value.\n",
      "Invalid input. Please enter a numeric value.\n",
      "Invalid input. Please enter a numeric value.\n",
      "Invalid input. Please enter a numeric value.\n",
      "Invalid input. Please enter a numeric value.\n",
      "Invalid input. Please enter a numeric value.\n",
      "Invalid input. Please enter a numeric value.\n",
      "Invalid input. Please enter a numeric value.\n",
      "Invalid input. Please enter a numeric value.\n",
      "Invalid input. Please enter a numeric value.\n",
      "Invalid input. Please enter a numeric value.\n"
     ]
    }
   ],
   "source": [
    "import sympy as sp\n",
    "\n",
    "# Define symbols\n",
    "Re, rho, v, D, mu, V, A, m = sp.symbols('Re rho v D mu V A m')\n",
    "\n",
    "# Define equations\n",
    "equations = [\n",
    "    sp.Eq(Re, rho * v * D / mu),\n",
    "    sp.Eq(V, v * A),\n",
    "    sp.Eq(A, 0.25 * sp.pi * D ** 2),\n",
    "    sp.Eq(m, V * rho)\n",
    "]\n",
    "\n",
    "# Function to solve equations\n",
    "def solve_equations(given_vars, given_values):\n",
    "    known_vars = dict(zip(given_vars, given_values))\n",
    "    unknown_vars = [var for var in [Re, rho, v, D, mu, V, A, m] if var not in known_vars]\n",
    "\n",
    "    solutions = sp.solve(equations, unknown_vars, dict=True)\n",
    "    \n",
    "    if solutions:\n",
    "        solution = solutions[0]  # Take the first solution set\n",
    "        return {str(var): solution[var].subs(known_vars) for var in unknown_vars if var in solution}\n",
    "    \n",
    "    return \"No solutions found with the given variables.\"\n",
    "\n",
    "# Get input from the user\n",
    "given_vars = []\n",
    "given_values = []\n",
    "\n",
    "for _ in range(4):\n",
    "    while True:\n",
    "        var_name = input(\"Enter the variable name (Re, rho, v, D, mu, V, A, m): \").strip()\n",
    "        try:\n",
    "            var_value = float(input(f\"Enter the value for {var_name}: \").replace(',', ''))\n",
    "            given_vars.append(sp.symbols(var_name))\n",
    "            given_values.append(var_value)\n",
    "            break\n",
    "        except ValueError:\n",
    "            print(\"Invalid input. Please enter a numeric value.\")\n",
    "\n",
    "# Solve and display the results\n",
    "solutions = solve_equations(given_vars, given_values)\n",
    "\n",
    "print(\"Solutions:\")\n",
    "if isinstance(solutions, dict):\n",
    "    for var, value in solutions.items():\n",
    "        print(f\"{var} = {value}\")\n",
    "    \n",
    "    # Check the type of fluid flow if Reynolds number is calculated\n",
    "    if 'Re' in solutions:\n",
    "        reynolds_number = solutions['Re']\n",
    "        if reynolds_number < 2000:\n",
    "            flow_type = \"Laminar flow\"\n",
    "        elif 2000 <= reynolds_number <= 4000:\n",
    "            flow_type = \"Transition flow\"\n",
    "        else:\n",
    "            flow_type = \"Turbulent flow\"\n",
    "        print(f\"Flow type: {flow_type}\")\n",
    "else:\n",
    "    print(solutions)"
   ]
  },
  {
   "cell_type": "markdown",
   "metadata": {},
   "source": [
    "# Density Identifier (Perry Table #2-32)"
   ]
  },
  {
   "cell_type": "code",
   "execution_count": 4,
   "metadata": {},
   "outputs": [
    {
     "name": "stdout",
     "output_type": "stream",
     "text": [
      "The density of Ethanol at 277.778°Kelvin is 802.4966 kg/m³\n"
     ]
    }
   ],
   "source": [
    "import CoolProp.CoolProp as CP\n",
    "\n",
    "# Define the fluid and temperature\n",
    "given_fluid = 'Ethanol'\n",
    "given_temperature = 277.778\n",
    "temp_unit = 'Kelvin'  # Celsius, Kelvin, Fahrenheit, Rankine\n",
    "\n",
    "# Convert temperature to Kelvin based on the unit provided\n",
    "if temp_unit == 'Celsius':\n",
    "    temperature = given_temperature + 273.15  # Convert Celsius to Kelvin\n",
    "elif temp_unit == 'Kelvin':\n",
    "    temperature = given_temperature\n",
    "elif temp_unit == 'Fahrenheit':\n",
    "    temperature = ((given_temperature - 32) * 5/9) + 273.15  # Convert Fahrenheit to Kelvin\n",
    "elif temp_unit == 'Rankine':\n",
    "    temperature = given_temperature * (5/9)  # Convert Rankine to Kelvin\n",
    "else:\n",
    "    raise ValueError(\"Invalid temperature unit. Please use 'Celsius', 'Kelvin', 'Fahrenheit', or 'Rankine'.\")\n",
    "\n",
    "try:\n",
    "    # Get the density at the given temperature (assuming atmospheric pressure)\n",
    "    density = CP.PropsSI('D', 'T', temperature, 'P', 101325, given_fluid)  # Pressure in Pa (101325 Pa = 1 atm)\n",
    "    print(f'The density of {given_fluid} at {given_temperature}°{temp_unit} is {density:.4f} kg/m³')\n",
    "\n",
    "except ValueError as e:\n",
    "    # print(f\"Error: {e}\")\n",
    "    fluids = CP.get_global_param_string(\"fluids_list\")\n",
    "    print(f\"There is no {given_fluid} in the list. Here's the available fluids:\")\n",
    "    print(fluids)"
   ]
  }
 ],
 "metadata": {
  "kernelspec": {
   "display_name": "venv",
   "language": "python",
   "name": "python3"
  },
  "language_info": {
   "codemirror_mode": {
    "name": "ipython",
    "version": 3
   },
   "file_extension": ".py",
   "mimetype": "text/x-python",
   "name": "python",
   "nbconvert_exporter": "python",
   "pygments_lexer": "ipython3",
   "version": "3.9.6"
  }
 },
 "nbformat": 4,
 "nbformat_minor": 2
}
