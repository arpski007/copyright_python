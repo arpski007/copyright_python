{
 "cells": [
  {
   "cell_type": "code",
   "execution_count": 4,
   "metadata": {},
   "outputs": [
    {
     "name": "stdout",
     "output_type": "stream",
     "text": [
      "The density of Ethanol at 277.778°Kelvin is 802.4966 kg/m³\n"
     ]
    }
   ],
   "source": [
    "import CoolProp.CoolProp as CP\n",
    "\n",
    "# Define the fluid and temperature\n",
    "given_fluid = 'Ethanol'\n",
    "given_temperature = 277.778\n",
    "temp_unit = 'Kelvin'  # Celsius, Kelvin, Fahrenheit, Rankine\n",
    "\n",
    "# Convert temperature to Kelvin based on the unit provided\n",
    "if temp_unit == 'Celsius':\n",
    "    temperature = given_temperature + 273.15  # Convert Celsius to Kelvin\n",
    "elif temp_unit == 'Kelvin':\n",
    "    temperature = given_temperature\n",
    "elif temp_unit == 'Fahrenheit':\n",
    "    temperature = ((given_temperature - 32) * 5/9) + 273.15  # Convert Fahrenheit to Kelvin\n",
    "elif temp_unit == 'Rankine':\n",
    "    temperature = given_temperature * (5/9)  # Convert Rankine to Kelvin\n",
    "else:\n",
    "    raise ValueError(\"Invalid temperature unit. Please use 'Celsius', 'Kelvin', 'Fahrenheit', or 'Rankine'.\")\n",
    "\n",
    "try:\n",
    "    # Get the density at the given temperature (assuming atmospheric pressure)\n",
    "    density = CP.PropsSI('D', 'T', temperature, 'P', 101325, given_fluid)  # Pressure in Pa (101325 Pa = 1 atm)\n",
    "    print(f'The density of {given_fluid} at {given_temperature}°{temp_unit} is {density:.4f} kg/m³')\n",
    "\n",
    "except ValueError as e:\n",
    "    # print(f\"Error: {e}\")\n",
    "    fluids = CP.get_global_param_string(\"fluids_list\")\n",
    "    print(f\"There is no {given_fluid} in the list. Here's the available fluids:\")\n",
    "    print(fluids)"
   ]
  }
 ],
 "metadata": {
  "kernelspec": {
   "display_name": "venv",
   "language": "python",
   "name": "python3"
  },
  "language_info": {
   "codemirror_mode": {
    "name": "ipython",
    "version": 3
   },
   "file_extension": ".py",
   "mimetype": "text/x-python",
   "name": "python",
   "nbconvert_exporter": "python",
   "pygments_lexer": "ipython3",
   "version": "3.9.6"
  }
 },
 "nbformat": 4,
 "nbformat_minor": 2
}
