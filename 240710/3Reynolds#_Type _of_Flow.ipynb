{
 "cells": [
  {
   "cell_type": "code",
   "execution_count": 1,
   "metadata": {},
   "outputs": [
    {
     "name": "stdout",
     "output_type": "stream",
     "text": [
      "Solutions:\n",
      "Re = 131578.947368421\n",
      "V = 0.0490873852123405\n",
      "A = 0.196349540849362\n",
      "m = 49.0873852123405\n",
      "Flow type: Turbulent flow\n"
     ]
    }
   ],
   "source": [
    "import sympy as sp\n",
    "\n",
    "# Define symbols\n",
    "Re, rho, v, D, mu, V, A, m = sp.symbols('Re rho v D mu V A m')\n",
    "\n",
    "# Define equations\n",
    "equations = [\n",
    "    sp.Eq(Re, rho * v * D / mu),\n",
    "    sp.Eq(V, v * A),\n",
    "    sp.Eq(A, 0.25 * sp.pi * D ** 2),\n",
    "    sp.Eq(m, V * rho)\n",
    "]\n",
    "\n",
    "# Function to solve equations\n",
    "def solve_equations(given_vars, given_values):\n",
    "    known_vars = dict(zip(given_vars, given_values))\n",
    "    unknown_vars = [var for var in [Re, rho, v, D, mu, V, A, m] if var not in known_vars]\n",
    "\n",
    "    solutions = sp.solve(equations, unknown_vars, dict=True)\n",
    "    \n",
    "    if solutions:\n",
    "        solution = solutions[0]  # Take the first solution set\n",
    "        return {str(var): solution[var].subs(known_vars) for var in unknown_vars if var in solution}\n",
    "    \n",
    "    return \"No solutions found with the given variables.\"\n",
    "\n",
    "# Get input from the user\n",
    "given_vars = []\n",
    "given_values = []\n",
    "\n",
    "for _ in range(4):\n",
    "    while True:\n",
    "        var_name = input(\"Enter the variable name (Re, rho, v, D, mu, V, A, m): \").strip()\n",
    "        try:\n",
    "            var_value = float(input(f\"Enter the value for {var_name}: \").replace(',', ''))\n",
    "            given_vars.append(sp.symbols(var_name))\n",
    "            given_values.append(var_value)\n",
    "            break\n",
    "        except ValueError:\n",
    "            print(\"Invalid input. Please enter a numeric value.\")\n",
    "\n",
    "# Solve and display the results\n",
    "solutions = solve_equations(given_vars, given_values)\n",
    "\n",
    "print(\"Solutions:\")\n",
    "if isinstance(solutions, dict):\n",
    "    for var, value in solutions.items():\n",
    "        print(f\"{var} = {value}\")\n",
    "    \n",
    "    # Check the type of fluid flow if Reynolds number is calculated\n",
    "    if 'Re' in solutions:\n",
    "        reynolds_number = solutions['Re']\n",
    "        if reynolds_number < 2000:\n",
    "            flow_type = \"Laminar flow\"\n",
    "        elif 2000 <= reynolds_number <= 4000:\n",
    "            flow_type = \"Transition flow\"\n",
    "        else:\n",
    "            flow_type = \"Turbulent flow\"\n",
    "        print(f\"Flow type: {flow_type}\")\n",
    "else:\n",
    "    print(solutions)"
   ]
  }
 ],
 "metadata": {
  "kernelspec": {
   "display_name": "venv",
   "language": "python",
   "name": "python3"
  },
  "language_info": {
   "codemirror_mode": {
    "name": "ipython",
    "version": 3
   },
   "file_extension": ".py",
   "mimetype": "text/x-python",
   "name": "python",
   "nbconvert_exporter": "python",
   "pygments_lexer": "ipython3",
   "version": "3.9.6"
  }
 },
 "nbformat": 4,
 "nbformat_minor": 2
}
